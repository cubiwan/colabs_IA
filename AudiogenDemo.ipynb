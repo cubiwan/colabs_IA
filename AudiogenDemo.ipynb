{
  "nbformat": 4,
  "nbformat_minor": 0,
  "metadata": {
    "colab": {
      "provenance": [],
      "gpuType": "T4",
      "include_colab_link": true
    },
    "kernelspec": {
      "name": "python3",
      "display_name": "Python 3"
    },
    "language_info": {
      "name": "python"
    },
    "accelerator": "GPU"
  },
  "cells": [
    {
      "cell_type": "markdown",
      "metadata": {
        "id": "view-in-github",
        "colab_type": "text"
      },
      "source": [
        "<a href=\"https://colab.research.google.com/github/cubiwan/colabs_IA/blob/main/AudiogenDemo.ipynb\" target=\"_parent\"><img src=\"https://colab.research.google.com/assets/colab-badge.svg\" alt=\"Open In Colab\"/></a>"
      ]
    },
    {
      "cell_type": "markdown",
      "source": [
        "# Demo de audiogen\n",
        "*(basada en la demo de musicgen)*\n",
        "\n",
        "Paso 1. Descargar he instalar todas las dependencias\n"
      ],
      "metadata": {
        "id": "efhHAvBOgMnL"
      }
    },
    {
      "cell_type": "code",
      "source": [
        "# Adaptado de:\n",
        "# https://github.com/camenduru/MusicGen-colab\n",
        "# https://github.com/facebookresearch/audiocraft/blob/main/demos/audiogen_demo.ipynb\n",
        "\n",
        "%cd /content\n",
        "!git clone https://github.com/facebookresearch/audiocraft\n",
        "%cd /content/audiocraft\n",
        "# No reinicies el colab cuando lo pida\n",
        "!pip install -r requirements.txt"
      ],
      "metadata": {
        "id": "ku0ui5lKwpF7"
      },
      "execution_count": null,
      "outputs": []
    },
    {
      "cell_type": "markdown",
      "source": [
        "Paso 2. Cargar la libreria y descargar el modelo"
      ],
      "metadata": {
        "id": "klAqJJl_PoFb"
      }
    },
    {
      "cell_type": "code",
      "source": [
        "from audiocraft.models import AudioGen\n",
        "\n",
        "model = AudioGen.get_pretrained('facebook/audiogen-medium')"
      ],
      "metadata": {
        "id": "_GTBCFN7Ppk8"
      },
      "execution_count": null,
      "outputs": []
    },
    {
      "cell_type": "markdown",
      "source": [
        "Paso 3. Configurar el modelo:\n",
        "\n",
        "* u**se_sampling** (bool, opcional): usa sampling si es true; de lo contrario, usa argmax decoding. El valor predeterminado es true.\n",
        "* **top_k** (int, opcional): top_k usado para muestreo. El valor predeterminado es 250.\n",
        "* **top_p** (flotante, opcional): top_p se usa para muestreo, cuando se establece en 0 se usa top_k. El valor predeterminado es 0.\n",
        "* **temperature** (flotante, opcional): parámetro de temperatura softmax. El valor predeterminado es 1.0.\n",
        "* **duration** (flotante, opcional): duración de la forma de onda generada. El valor predeterminado es 10.0.\n",
        "* **cfg_coef** (flotante, opcional): coeficiente utilizado para la guía libre del clasificador. El valor predeterminado es 3.0."
      ],
      "metadata": {
        "id": "jKk6mjl9Rlmn"
      }
    },
    {
      "cell_type": "code",
      "source": [
        "model.set_generation_params(\n",
        "    use_sampling=True,\n",
        "    top_k=250,\n",
        "    duration=10\n",
        ")"
      ],
      "metadata": {
        "id": "NJXpj7lyYjve"
      },
      "execution_count": null,
      "outputs": []
    },
    {
      "cell_type": "markdown",
      "source": [
        "Paso 4. Pasar el prompt para generar el audio"
      ],
      "metadata": {
        "id": "TaQ0DWVESknC"
      }
    },
    {
      "cell_type": "code",
      "source": [
        "from audiocraft.utils.notebook import display_audio\n",
        "\n",
        "output = model.generate(\n",
        "    descriptions=[\n",
        "        'Subway train blowing its horn',\n",
        "        'A cat meowing',\n",
        "        'A quacking duck after a gun shot after a flying duck',\n",
        "    ],\n",
        "    progress=True\n",
        ")\n",
        "display_audio(output, sample_rate=16000)\n"
      ],
      "metadata": {
        "id": "i-8qcJNuQIm_"
      },
      "execution_count": null,
      "outputs": []
    }
  ]
}
