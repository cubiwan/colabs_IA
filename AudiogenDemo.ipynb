{
  "nbformat": 4,
  "nbformat_minor": 0,
  "metadata": {
    "colab": {
      "provenance": [],
      "gpuType": "T4",
      "include_colab_link": true
    },
    "kernelspec": {
      "name": "python3",
      "display_name": "Python 3"
    },
    "language_info": {
      "name": "python"
    },
    "accelerator": "GPU"
  },
  "cells": [
    {
      "cell_type": "markdown",
      "metadata": {
        "id": "view-in-github",
        "colab_type": "text"
      },
      "source": [
        "<a href=\"https://colab.research.google.com/github/cubiwan/colabs_IA/blob/main/AudiogenDemo.ipynb\" target=\"_parent\"><img src=\"https://colab.research.google.com/assets/colab-badge.svg\" alt=\"Open In Colab\"/></a>"
      ]
    },
    {
      "cell_type": "markdown",
      "source": [
        "# Demo de audiogen\n",
        "*(basada en la demo de musicgen)*\n",
        "\n",
        "Paso 1. Descargar he instalar todas las dependencias\n"
      ],
      "metadata": {
        "id": "efhHAvBOgMnL"
      }
    },
    {
      "cell_type": "code",
      "source": [
        "# Adaptado de:\n",
        "# https://github.com/camenduru/MusicGen-colab\n",
        "# https://github.com/facebookresearch/audiocraft/blob/main/demos/audiogen_demo.ipynb\n",
        "\n",
        "%cd /content\n",
        "!git clone https://github.com/facebookresearch/audiocraft\n",
        "%cd /content/audiocraft\n",
        "# No reinicies el colab cuando lo pida\n",
        "!pip install -r requirements.txt"
      ],
      "metadata": {
        "id": "ku0ui5lKwpF7",
        "outputId": "9a01d32f-2211-4da2-92c5-3bbc1f215288",
        "colab": {
          "base_uri": "https://localhost:8080/"
        }
      },
      "execution_count": 1,
      "outputs": [
        {
          "output_type": "stream",
          "name": "stdout",
          "text": [
            "/content\n",
            "Cloning into 'audiocraft'...\n",
            "remote: Enumerating objects: 925, done.\u001b[K\n",
            "remote: Counting objects: 100% (211/211), done.\u001b[K\n",
            "remote: Compressing objects: 100% (106/106), done.\u001b[K\n",
            "remote: Total 925 (delta 135), reused 117 (delta 104), pack-reused 714\u001b[K\n",
            "Receiving objects: 100% (925/925), 1.73 MiB | 23.36 MiB/s, done.\n",
            "Resolving deltas: 100% (457/457), done.\n",
            "/content/audiocraft\n",
            "Collecting av (from -r requirements.txt (line 2))\n",
            "  Downloading av-10.0.0-cp310-cp310-manylinux_2_17_x86_64.manylinux2014_x86_64.whl (31.0 MB)\n",
            "\u001b[2K     \u001b[90m━━━━━━━━━━━━━━━━━━━━━━━━━━━━━━━━━━━━━━━━\u001b[0m \u001b[32m31.0/31.0 MB\u001b[0m \u001b[31m39.4 MB/s\u001b[0m eta \u001b[36m0:00:00\u001b[0m\n",
            "\u001b[?25hCollecting einops (from -r requirements.txt (line 3))\n",
            "  Downloading einops-0.6.1-py3-none-any.whl (42 kB)\n",
            "\u001b[2K     \u001b[90m━━━━━━━━━━━━━━━━━━━━━━━━━━━━━━━━━━━━━━━━\u001b[0m \u001b[32m42.2/42.2 kB\u001b[0m \u001b[31m6.0 MB/s\u001b[0m eta \u001b[36m0:00:00\u001b[0m\n",
            "\u001b[?25hCollecting flashy>=0.0.1 (from -r requirements.txt (line 4))\n",
            "  Downloading flashy-0.0.2.tar.gz (72 kB)\n",
            "\u001b[2K     \u001b[90m━━━━━━━━━━━━━━━━━━━━━━━━━━━━━━━━━━━━━━━━\u001b[0m \u001b[32m72.4/72.4 kB\u001b[0m \u001b[31m9.6 MB/s\u001b[0m eta \u001b[36m0:00:00\u001b[0m\n",
            "\u001b[?25h  Installing build dependencies ... \u001b[?25l\u001b[?25hcanceled\n",
            "\u001b[31mERROR: Operation cancelled by user\u001b[0m\u001b[31m\n",
            "\u001b[0m"
          ]
        }
      ]
    },
    {
      "cell_type": "markdown",
      "source": [
        "Paso 2. Cargar la libreria y descargar el modelo"
      ],
      "metadata": {
        "id": "klAqJJl_PoFb"
      }
    },
    {
      "cell_type": "code",
      "source": [
        "from audiocraft.models import AudioGen\n",
        "\n",
        "model = AudioGen.get_pretrained('facebook/audiogen-medium')"
      ],
      "metadata": {
        "id": "_GTBCFN7Ppk8"
      },
      "execution_count": null,
      "outputs": []
    },
    {
      "cell_type": "markdown",
      "source": [
        "Paso 3. Configurar el modelo:\n",
        "\n",
        "* u**se_sampling** (bool, opcional): usa sampling si es true; de lo contrario, usa argmax decoding. El valor predeterminado es true.\n",
        "* **top_k** (int, opcional): top_k usado para muestreo. El valor predeterminado es 250.\n",
        "* **top_p** (flotante, opcional): top_p se usa para muestreo, cuando se establece en 0 se usa top_k. El valor predeterminado es 0.\n",
        "* **temperature** (flotante, opcional): parámetro de temperatura softmax. El valor predeterminado es 1.0.\n",
        "* **duration** (flotante, opcional): duración de la forma de onda generada. El valor predeterminado es 10.0.\n",
        "* **cfg_coef** (flotante, opcional): coeficiente utilizado para la guía libre del clasificador. El valor predeterminado es 3.0."
      ],
      "metadata": {
        "id": "jKk6mjl9Rlmn"
      }
    },
    {
      "cell_type": "code",
      "source": [
        "model.set_generation_params(\n",
        "    use_sampling=True,\n",
        "    top_k=250,\n",
        "    duration=10\n",
        ")"
      ],
      "metadata": {
        "id": "NJXpj7lyYjve"
      },
      "execution_count": null,
      "outputs": []
    },
    {
      "cell_type": "markdown",
      "source": [
        "Paso 4. Pasar el prompt para generar el audio"
      ],
      "metadata": {
        "id": "TaQ0DWVESknC"
      }
    },
    {
      "cell_type": "code",
      "source": [
        "from audiocraft.utils.notebook import display_audio\n",
        "\n",
        "output = model.generate(\n",
        "    descriptions=[\n",
        "        'Subway train blowing its horn',\n",
        "        'A cat meowing',\n",
        "        'A quacking duck after a gun shot after a flying duck',\n",
        "    ],\n",
        "    progress=True\n",
        ")\n",
        "display_audio(output, sample_rate=16000)\n"
      ],
      "metadata": {
        "id": "i-8qcJNuQIm_"
      },
      "execution_count": null,
      "outputs": []
    }
  ]
}